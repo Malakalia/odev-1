{
 "cells": [
  {
   "cell_type": "code",
   "execution_count": null,
   "id": "74376650",
   "metadata": {},
   "outputs": [],
   "source": []
  },
  {
   "cell_type": "code",
   "execution_count": null,
   "id": "18064e65",
   "metadata": {},
   "outputs": [],
   "source": []
  },
  {
   "cell_type": "markdown",
   "id": "871eed50",
   "metadata": {},
   "source": [
    "# Pythagoras' theorem \n",
    "The theorem says that in a right-angled triangle the area of the two squares adjacent to the shorter sides added together is equal to the area of the area of\n",
    "\n",
    "Ex:\n",
    "Enter the first value:2\n",
    "Enter the first value:2\n",
    "2.8284271247461903"
   ]
  },
  {
   "cell_type": "code",
   "execution_count": null,
   "id": "f7dbe07e",
   "metadata": {},
   "outputs": [],
   "source": [
    "a=int(input(\"Enter the first value:\"))\n",
    "b=int(input(\"Enter the first value:\"))\n",
    "sum=a**2+b**2\n",
    "c=sum**0.5\n",
    "print(c)"
   ]
  },
  {
   "cell_type": "markdown",
   "id": "1d8c7690",
   "metadata": {},
   "source": [
    "# Celsius and Fahrenheit equation\n",
    "choose 1 for celsius or 2 for fahrenheit:1\n",
    "enter the value of fehrenheit you wanna change: 45\n",
    "Value of celsius is:  7.222222222222222"
   ]
  },
  {
   "cell_type": "code",
   "execution_count": 22,
   "id": "5eb83c0b",
   "metadata": {},
   "outputs": [
    {
     "name": "stdout",
     "output_type": "stream",
     "text": [
      "choose 1 for celsius or 2 for fahrenheit:1\n",
      "enter the value of fehrenheit you wanna change: 45\n",
      "Value of celsius is:  7.222222222222222\n"
     ]
    }
   ],
   "source": [
    "x=int(input(\"choose 1 for celsius or 2 for fahrenheit:\"))\n",
    "if x!=1 and x!=2:\n",
    "    \n",
    "    print(\"ERROR\\nTry again\")\n",
    "else:\n",
    "    if x==1:\n",
    "        f=int(input(\"enter the value of fehrenheit you wanna change: \"))\n",
    "        c=(f-32)/1.8\n",
    "        print(\"Value of celsius is: \",c)\n",
    "    elif x==2:\n",
    "        cc=int(input(\"enter the value of fehrenheit you wanna change: \"))\n",
    "        ff=(cc*1.8)+32\n",
    "        print(\"Value of fah is:\",ff)\n",
    "        \n",
    "   "
   ]
  },
  {
   "cell_type": "markdown",
   "id": "ae20ebc8",
   "metadata": {},
   "source": [
    "Human body temperature"
   ]
  },
  {
   "cell_type": "code",
   "execution_count": 24,
   "id": "03cf13c2",
   "metadata": {},
   "outputs": [
    {
     "name": "stdout",
     "output_type": "stream",
     "text": [
      "enter your temperature:23\n",
      "Your temperature is low\n"
     ]
    }
   ],
   "source": [
    "a=int(input(\"enter your temperature:\" ))\n",
    "     \n",
    "if a > 37 :\n",
    "    print(\"Your temperature is high\")\n",
    "elif a < 37 :\n",
    "    print(\"Your temperature is low\")\n",
    "else:\n",
    "    print(\"Your temperature is normal\")"
   ]
  },
  {
   "cell_type": "code",
   "execution_count": null,
   "id": "a241983f",
   "metadata": {},
   "outputs": [],
   "source": []
  }
 ],
 "metadata": {
  "kernelspec": {
   "display_name": "Python 3 (ipykernel)",
   "language": "python",
   "name": "python3"
  },
  "language_info": {
   "codemirror_mode": {
    "name": "ipython",
    "version": 3
   },
   "file_extension": ".py",
   "mimetype": "text/x-python",
   "name": "python",
   "nbconvert_exporter": "python",
   "pygments_lexer": "ipython3",
   "version": "3.9.12"
  }
 },
 "nbformat": 4,
 "nbformat_minor": 5
}
